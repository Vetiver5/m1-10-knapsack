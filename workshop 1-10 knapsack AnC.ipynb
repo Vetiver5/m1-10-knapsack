{
 "cells": [
  {
   "cell_type": "markdown",
   "metadata": {
    "id": "ApJFSgd7K_ot"
   },
   "source": [
    "#Knapsack problems Anne Cloutier GitHub Vetiver5"
   ]
  },
  {
   "cell_type": "markdown",
   "metadata": {
    "id": "41z-16ju4MCG"
   },
   "source": [
    "## Knapsack Problem\n",
    "\n",
    "The *knapsack problem*:  given a set of integers $S = \\{s_1, s_2, \\ldots, s_n\\}$ and a target number $T$, find a subset (i.e., knapsack) of $S$ which adds up exactly to $T$.  \n",
    "\n",
    "For example, if $S = \\{1,2,5, 9, 10\\}$, there is a subset that adds up to $T = 22$, but not to $T = 23$.  Complete the following tasks related to this problem."
   ]
  },
  {
   "cell_type": "markdown",
   "metadata": {
    "id": "-D_OjGv94MCG"
   },
   "source": [
    "# 1. \n",
    "\n",
    "Find a subset of $S = \\{1,2,5, 9, 10\\}$ with sum $T = 22$.  Explain the process (algorithm) you used mentally to find the subset.  Then apply the same process in an attempt to find a subset with sum $T = 23$.  \n",
    "\n",
    "How do you know there is no such subset?"
   ]
  },
  {
   "cell_type": "code",
   "execution_count": 1,
   "metadata": {
    "executionInfo": {
     "elapsed": 312,
     "status": "ok",
     "timestamp": 1610212929362,
     "user": {
      "displayName": "anne",
      "photoUrl": "",
      "userId": "09704877900220485368"
     },
     "user_tz": 300
    },
    "id": "R3fDgwwC4ojJ"
   },
   "outputs": [],
   "source": [
    "S = {1,2,5,9,10}\n",
    "#1. find subset = 22\n",
    "subset = {1,2,9,10}\n",
    "\n",
    "#2. what mental process did you use?\n",
    "#I scanned/added all the values (T = 27)\n",
    "#in descending order (largest to the smallest), then substracted the\n",
    "#single value (5) which would reduce the total to 22.\n",
    "\n",
    "#3. how do you know there is no such subset\n"
   ]
  },
  {
   "cell_type": "code",
   "execution_count": 6,
   "metadata": {
    "colab": {
     "base_uri": "https://localhost:8080/"
    },
    "executionInfo": {
     "elapsed": 492,
     "status": "ok",
     "timestamp": 1610212929554,
     "user": {
      "displayName": "anne",
      "photoUrl": "",
      "userId": "09704877900220485368"
     },
     "user_tz": 300
    },
    "id": "UiDc2jmclade",
    "outputId": "baaa3782-6596-408d-8b7e-5b96fa9476e4"
   },
   "outputs": [
    {
     "name": "stdout",
     "output_type": "stream",
     "text": [
      "[9, 5, 2, 1]\n"
     ]
    }
   ],
   "source": [
    "#3. how do you know there is no such subset\n",
    "#\n",
    "\n",
    "s=[1,2,5,9,10]\n",
    "t=23\n",
    "k=[]\n",
    "\n",
    "s.sort\n",
    "s = sorted(s, key=int, reverse=True)\n",
    "\n",
    "for i in range (1, len(s)):\n",
    "    if sum(k) + s[i] <= t:\n",
    "        k.append(s[i])\n",
    "    elif sum(k) == t:\n",
    "        print (k)\n",
    "    else:\n",
    "        print (\"false\")\n",
    "print(k)"
   ]
  },
  {
   "cell_type": "markdown",
   "metadata": {
    "collapsed": true,
    "id": "Oq0SyT6H4MCG"
   },
   "source": [
    "# 2.\n",
    "\n",
    "Consider the following possible algorithm for the knapsack problem, written in psuedocode: \n",
    "```python\n",
    "knapsack(S[], T):\n",
    "    K = empty\n",
    "    for each i < size(S)\n",
    "        if sum(K) + S[i] <= T, put S[i] into K\n",
    "    if sum(K) = T, return K, else return False.\n",
    "```\n",
    "**a)** Describe what this algorithm does in English.  \n",
    "\n",
    "**b)** Implement this algorithm in Python and run it on the $S$ and $T$ above.\n",
    "\n",
    "\n",
    "**c)** Prove that this algorithm is NOT correct.  That is, find a counterexample: a set $S$ and number $T$ for which there is a solution, but not one that the algorithm finds.\n",
    "\n",
    "**d)** Verify that this particular $S$ and $T$ does not give the right output when entered to your Python program."
   ]
  },
  {
   "cell_type": "markdown",
   "metadata": {
    "id": "aeEaH4aAF8hB"
   },
   "source": [
    "A. Given a list of values called S, and a target value of T which will be created by summing a sub-set of S:\n",
    "\n",
    "\n",
    "1. create an empty list called K\n",
    "2. add the values (i) in S; if their sum is equal to T or lesser, include the considered values in K\n",
    "3. if the sum of values in K is equal to T return the K set.\n",
    "4. if it isn't, return False\n",
    "\n",
    "The algorithm as described in the pseudocode cannot progress through S and generate a sub-set == T as it isn't programmed in a way to skip a value without which K will match T.\n",
    "\n",
    "\n",
    "\n",
    "\n",
    "\n",
    "\n",
    "\n"
   ]
  },
  {
   "cell_type": "code",
   "execution_count": 3,
   "metadata": {
    "executionInfo": {
     "elapsed": 491,
     "status": "ok",
     "timestamp": 1610212929555,
     "user": {
      "displayName": "anne",
      "photoUrl": "",
      "userId": "09704877900220485368"
     },
     "user_tz": 300
    },
    "id": "tME-z2ia8LPN"
   },
   "outputs": [],
   "source": [
    "# B. implement the algorithm as described\n",
    "S = {1,2,5,9,10}\n",
    "S = list(S)\n",
    "T = 22\n",
    "\n",
    "def sumup_K(S,T):\n",
    "  K = []\n",
    "  for i in range(len(S)):\n",
    "    if (sum(K) + S[i]) <= T :\n",
    "      K.append(S[i])\n",
    "  if sum(K) == T :\n",
    "    return K\n",
    "  else:\n",
    "    return False"
   ]
  },
  {
   "cell_type": "code",
   "execution_count": 4,
   "metadata": {
    "colab": {
     "base_uri": "https://localhost:8080/"
    },
    "executionInfo": {
     "elapsed": 485,
     "status": "ok",
     "timestamp": 1610212929556,
     "user": {
      "displayName": "anne",
      "photoUrl": "",
      "userId": "09704877900220485368"
     },
     "user_tz": 300
    },
    "id": "6V9eFhPPApGn",
    "outputId": "f9daacab-b688-420e-b8d5-88cb26e7c8be"
   },
   "outputs": [
    {
     "data": {
      "text/plain": [
       "False"
      ]
     },
     "execution_count": 4,
     "metadata": {
      "tags": []
     },
     "output_type": "execute_result"
    }
   ],
   "source": [
    "sumup_K(S,T)"
   ]
  },
  {
   "cell_type": "code",
   "execution_count": 5,
   "metadata": {
    "executionInfo": {
     "elapsed": 483,
     "status": "ok",
     "timestamp": 1610212929556,
     "user": {
      "displayName": "anne",
      "photoUrl": "",
      "userId": "09704877900220485368"
     },
     "user_tz": 300
    },
    "id": "-HvbBa5YBE9B"
   },
   "outputs": [],
   "source": [
    "#C. prove that the algorithm is NOT correct\n",
    "#if K =[1,2,9,10]\n",
    "#sum S[i] = 22 = T"
   ]
  },
  {
   "cell_type": "markdown",
   "metadata": {
    "id": "ocCe-o6dLB84"
   },
   "source": []
  },
  {
   "cell_type": "code",
   "execution_count": 6,
   "metadata": {
    "executionInfo": {
     "elapsed": 480,
     "status": "ok",
     "timestamp": 1610212929556,
     "user": {
      "displayName": "anne",
      "photoUrl": "",
      "userId": "09704877900220485368"
     },
     "user_tz": 300
    },
    "id": "kB31fiLPLD_7"
   },
   "outputs": [],
   "source": [
    "#D. verify that the algorithm doesn't work with the K set\n",
    "#which would == T\n",
    "\n",
    "S = {1,2,9,10}\n",
    "S = list(S)\n",
    "T = 22\n",
    "\n",
    "def sumup_K(S,T):\n",
    "  K = []\n",
    "  for i in range(len(S)):\n",
    "    if (sum(K) + S[i]) <= T :\n",
    "      K.append(S[i])\n",
    "  if sum(K) == T :\n",
    "    return K\n",
    "  else:\n",
    "    return False"
   ]
  },
  {
   "cell_type": "code",
   "execution_count": 7,
   "metadata": {
    "colab": {
     "base_uri": "https://localhost:8080/"
    },
    "executionInfo": {
     "elapsed": 475,
     "status": "ok",
     "timestamp": 1610212929557,
     "user": {
      "displayName": "anne",
      "photoUrl": "",
      "userId": "09704877900220485368"
     },
     "user_tz": 300
    },
    "id": "C6NL8rLjLsMX",
    "outputId": "2332191c-1064-4084-de58-4fd3abda7abf"
   },
   "outputs": [
    {
     "data": {
      "text/plain": [
       "[1, 2, 10, 9]"
      ]
     },
     "execution_count": 7,
     "metadata": {
      "tags": []
     },
     "output_type": "execute_result"
    }
   ],
   "source": [
    "sumup_K(S,T)"
   ]
  },
  {
   "cell_type": "markdown",
   "metadata": {
    "id": "aF6nrO674MCG"
   },
   "source": [
    "# 3. \n",
    "\n",
    "Another try: What if you put the elements in the knapsack from largest to smallest?  Check that this too is not a correct algorithm."
   ]
  },
  {
   "cell_type": "code",
   "execution_count": 7,
   "metadata": {
    "executionInfo": {
     "elapsed": 473,
     "status": "ok",
     "timestamp": 1610212929558,
     "user": {
      "displayName": "anne",
      "photoUrl": "",
      "userId": "09704877900220485368"
     },
     "user_tz": 300
    },
    "id": "GpUUKd74VIGg"
   },
   "outputs": [],
   "source": []
  },
  {
   "cell_type": "markdown",
   "metadata": {
    "id": "xMswYWnM4MCG"
   },
   "source": [
    "# 4.\n",
    "\n",
    "Describe a correct algorithm for the knapsack problem (that we haven't seen in class), both in English and in pseudocode.  Then implement the algorithm in Python.  Explain how you know your algorithm is correct (even if it might not be efficient)."
   ]
  },
  {
   "cell_type": "code",
   "execution_count": 8,
   "metadata": {
    "colab": {
     "base_uri": "https://localhost:8080/"
    },
    "executionInfo": {
     "elapsed": 702,
     "status": "ok",
     "timestamp": 1610212929792,
     "user": {
      "displayName": "anne",
      "photoUrl": "",
      "userId": "09704877900220485368"
     },
     "user_tz": 300
    },
    "id": "LtRNaq2cRSUX",
    "outputId": "274feeb6-2016-4898-c327-2f13d2b27155"
   },
   "outputs": [
    {
     "name": "stdout",
     "output_type": "stream",
     "text": [
      "350\n"
     ]
    }
   ],
   "source": [
    "#Returns the maximum value that can be stored by the bag\n",
    "def knapSack(W, wt, val, n):\n",
    "   # initial conditions\n",
    "   if n == 0 or W == 0 :\n",
    "      return 0\n",
    "   # If weight is higher than capacity then it is not included\n",
    "   if (wt[n-1] > W):\n",
    "      return knapSack(W, wt, val, n-1)\n",
    "   # return either nth item being included or not\n",
    "   else:\n",
    "      return max(val[n-1] + knapSack(W-wt[n-1], wt, val, n-1),\n",
    "         knapSack(W, wt, val, n-1))\n",
    "\n",
    "# Testing the function\n",
    "val = [50,100,150,200]\n",
    "wt = [8,16,32,40]\n",
    "W = 64\n",
    "n = len(val)\n",
    "print (knapSack(W, wt, val, n))"
   ]
  },
  {
   "cell_type": "markdown",
   "metadata": {
    "collapsed": true,
    "id": "Di-6MWh-4MCG"
   },
   "source": [
    "# 5. Generating correct change\n",
    "\n",
    "Now, we will be making change using the fewest coins. \n",
    "\n",
    "Suppose you are a programmer for a vending machine manufacturer. Your company wants to streamline effort by giving out the fewest possible coins in change for each transaction. Suppose a customer puts in a dollar bill and purchases an item for 37 cents. What is the smallest number of coins you can use to make change? The answer is six coins: two quarters, one dime, and three pennies. \n",
    "\n",
    "How did we arrive at the answer of six coins? We start with the largest coin in our arsenal (a quarter) and use as many of those as possible, then we go to the next lowest coin value and use as many of those as possible. This is the greedy algorithm for change-making.\n",
    "\n",
    "**Question:** Write the greedy algorithm for change making.\n",
    "\n",
    "The input is the amount of change to generate (in pennies) and a list of coin sizes (in pennies)\n",
    "\n",
    "The output is the minimum number of coins to gener\n",
    "\n",
    "```\n",
    "# buys with 1 dollar for 37 pennies\n",
    "# Second argument says we can give quarters, dimes, nickels and pennies\n",
    "make_change(100 - 37, [25, 10, 5, 1])\n",
    "\n",
    "# 2 quarters, one dime, and three pennies\n",
    "output --> 6 # Output would be equivalent to the choices [2, 1, 0, 3]\n",
    "```"
   ]
  },
  {
   "cell_type": "code",
   "execution_count": 9,
   "metadata": {
    "executionInfo": {
     "elapsed": 700,
     "status": "ok",
     "timestamp": 1610212929792,
     "user": {
      "displayName": "anne",
      "photoUrl": "",
      "userId": "09704877900220485368"
     },
     "user_tz": 300
    },
    "id": "ZQG5BdefiI6q"
   },
   "outputs": [],
   "source": [
    "import time"
   ]
  },
  {
   "cell_type": "code",
   "execution_count": 10,
   "metadata": {
    "colab": {
     "base_uri": "https://localhost:8080/"
    },
    "executionInfo": {
     "elapsed": 31073,
     "status": "ok",
     "timestamp": 1610212960181,
     "user": {
      "displayName": "anne",
      "photoUrl": "",
      "userId": "09704877900220485368"
     },
     "user_tz": 300
    },
    "id": "rPJspq3SWAGu",
    "outputId": "c1a96cc0-e7f7-49d6-efc3-b6160474eea2"
   },
   "outputs": [
    {
     "name": "stdout",
     "output_type": "stream",
     "text": [
      "6\n"
     ]
    },
    {
     "data": {
      "text/plain": [
       "138.849577666"
      ]
     },
     "execution_count": 10,
     "metadata": {
      "tags": []
     },
     "output_type": "execute_result"
    }
   ],
   "source": [
    "\n",
    "#Greedy algorithm for counting minimum number\n",
    "#of coins on 67 cents change\n",
    "\n",
    "def greedy_change(coin_list, change):\n",
    "   min_coins = change\n",
    "   if change in coin_list:\n",
    "     return 1\n",
    "   else:\n",
    "      for i in [c for c in coin_list if c <= change]:\n",
    "         coin_count = 1 + greedy_change(coin_list,change-i)\n",
    "         if coin_count < min_coins:\n",
    "            min_coins = coin_count\n",
    "   return min_coins\n",
    "\n",
    "print(greedy_change([25, 10, 5, 1],63))\n",
    "time.perf_counter()"
   ]
  },
  {
   "cell_type": "markdown",
   "metadata": {
    "id": "I35vnioK4MCG"
   },
   "source": [
    "# 6 Recursive change\n",
    "\n",
    "Write the greedy change making algorithm using recursion"
   ]
  },
  {
   "cell_type": "code",
   "execution_count": 11,
   "metadata": {
    "executionInfo": {
     "elapsed": 31072,
     "status": "ok",
     "timestamp": 1610212960182,
     "user": {
      "displayName": "anne",
      "photoUrl": "",
      "userId": "09704877900220485368"
     },
     "user_tz": 300
    },
    "id": "6RpeXFSbh-8j"
   },
   "outputs": [],
   "source": [
    "def recChange_greedy(coin_list, change):\n",
    "  #base case: if change is 0, then no coins are returned\n",
    "  if change == 0:\n",
    "    return 0\n",
    "  else: \n",
    "    #use as many of the highest value coins as possible\n",
    "    value_max = max(coin_list)\n",
    "    #count the number of coins used\n",
    "    count = change//value_max\n",
    "    index = coin_list.index(value_max)\n",
    "    del coin_list[index]\n",
    "    #overwrite index to restart and continue greedy alg\n",
    "    return count + recChange_greedy(coin_list, change-value_max * count)\n",
    "\n",
    "def main():\n",
    "  print (recChange_greedy([25, 10, 5, 1], 63))"
   ]
  },
  {
   "cell_type": "code",
   "execution_count": 12,
   "metadata": {
    "colab": {
     "base_uri": "https://localhost:8080/"
    },
    "executionInfo": {
     "elapsed": 31068,
     "status": "ok",
     "timestamp": 1610212960183,
     "user": {
      "displayName": "anne",
      "photoUrl": "",
      "userId": "09704877900220485368"
     },
     "user_tz": 300
    },
    "id": "7j-x4IpOadqk",
    "outputId": "8c10ddd3-4d84-43da-ffe7-44b3bdee82c4"
   },
   "outputs": [
    {
     "name": "stdout",
     "output_type": "stream",
     "text": [
      "6\n"
     ]
    },
    {
     "data": {
      "text/plain": [
       "138.867137584"
      ]
     },
     "execution_count": 12,
     "metadata": {
      "tags": []
     },
     "output_type": "execute_result"
    }
   ],
   "source": [
    "main()\n",
    "time.perf_counter()"
   ]
  },
  {
   "cell_type": "markdown",
   "metadata": {
    "id": "DhWFUY-G4MCG"
   },
   "source": [
    "# 7 (Stretch) Dynamic Programming Change making\n",
    "\n",
    "Write a solution to the change making problem using dynamic programming.\n",
    "\n",
    "**Hint:** Start with making change for one cent and systematically work its way up to the amount of change we require. This guarantees us that at each step of the algorithm we already know the minimum number of coins needed to make change for any smaller amount. Keep a memoized table of results for each step working up to the amount of change you need to generate."
   ]
  },
  {
   "cell_type": "code",
   "execution_count": 13,
   "metadata": {
    "colab": {
     "base_uri": "https://localhost:8080/"
    },
    "executionInfo": {
     "elapsed": 31062,
     "status": "ok",
     "timestamp": 1610212960183,
     "user": {
      "displayName": "anne",
      "photoUrl": "",
      "userId": "09704877900220485368"
     },
     "user_tz": 300
    },
    "id": "r8Uy87FH4MCG",
    "outputId": "c21fc815-a3ee-43c3-cc35-3fb17ac4617d"
   },
   "outputs": [
    {
     "name": "stdout",
     "output_type": "stream",
     "text": [
      "6\n"
     ]
    },
    {
     "data": {
      "text/plain": [
       "138.889604697"
      ]
     },
     "execution_count": 13,
     "metadata": {
      "tags": []
     },
     "output_type": "execute_result"
    }
   ],
   "source": [
    " #Change making with recursion and table look-up\n",
    " \n",
    " def table_recursive(coin_list,change,known_count):\n",
    "    min_coins = change\n",
    "    if change in coin_list:\n",
    "       known_count[change] = 1\n",
    "       return 1\n",
    "    elif known_count[change] > 0:\n",
    "       return known_count[change]\n",
    "    else:\n",
    "        for i in [c for c in coin_list if c <= change]:\n",
    "          coin_count = 1 + table_recursive(coin_list, change-i,\n",
    "                               known_count)\n",
    "          if coin_count < min_coins:\n",
    "             min_coins = coin_count\n",
    "             known_count[change] = min_coins\n",
    "    return min_coins\n",
    "\n",
    " print(table_recursive([1,5,10,25],63,[0]*64))\n",
    "time.perf_counter()"
   ]
  },
  {
   "cell_type": "code",
   "execution_count": 13,
   "metadata": {
    "executionInfo": {
     "elapsed": 31062,
     "status": "ok",
     "timestamp": 1610212960184,
     "user": {
      "displayName": "anne",
      "photoUrl": "",
      "userId": "09704877900220485368"
     },
     "user_tz": 300
    },
    "id": "GM5EGNUN4MCG"
   },
   "outputs": [],
   "source": []
  }
 ],
 "metadata": {
  "colab": {
   "collapsed_sections": [],
   "name": "workshop 1-10 knapsack AnC.ipynb",
   "provenance": [],
   "toc_visible": true
  },
  "kernelspec": {
   "display_name": "Python 3",
   "language": "python",
   "name": "python3"
  },
  "language_info": {
   "codemirror_mode": {
    "name": "ipython",
    "version": 3
   },
   "file_extension": ".py",
   "mimetype": "text/x-python",
   "name": "python",
   "nbconvert_exporter": "python",
   "pygments_lexer": "ipython3",
   "version": "3.8.3"
  }
 },
 "nbformat": 4,
 "nbformat_minor": 1
}
